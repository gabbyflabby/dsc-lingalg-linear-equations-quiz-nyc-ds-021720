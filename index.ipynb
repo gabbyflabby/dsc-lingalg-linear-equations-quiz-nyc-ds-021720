{
 "cells": [
  {
   "cell_type": "markdown",
   "metadata": {},
   "source": [
    "# Systems of Linear Equations - Lab\n",
    "\n",
    "## Introduction\n",
    "The following scenarios present problems that can be solved as a system of equations while performing substitutions and eliminations as you saw in the previous lesson.\n",
    "\n",
    "* Solve these problems by hand, showing all the steps to work out the unknown variable values \n",
    "* Verify your answers by showing the calculated values satisfy all equations\n",
    "\n",
    "## Objectives\n",
    "\n",
    "In this lab you will: \n",
    "\n",
    "- Solve a system of equations using elimination and substitution\n",
    "\n",
    "## Exercise 1\n",
    "Jane paid 12 dollars for 4 cups of coffee and 4 cups of tea. 3 cups of coffee cost as much as 2 cups of tea. What would be the total cost of 5 cups of coffee and 5 cups of tea?\n",
    "\n",
    "### Solution\n",
    "\n",
    "> Let $x$ be the unit price of coffee and $y$ be the unit price of tea"
   ]
  },
  {
   "cell_type": "code",
   "execution_count": 1,
   "metadata": {},
   "outputs": [],
   "source": [
    "# 4x + 4y = 12 (A)\n",
    "# 3x = 2y (B)\n",
    "\n",
    "# 6x - 4y = 0 (A * 2 = C) \n",
    "\n",
    "# 4x + 6x + 4y - 4y = 12 + 0 (B + C) \n",
    "# 10x = 12\n",
    "# x = 1.2\n",
    "\n",
    "# 4(1.2) + 4y = 12 (substitute x into A)\n",
    "# 4.8 + 4y = 12\n",
    "# 4y = 7.2\n",
    "# y = 1.8\n",
    "\n",
    "# check that x = 1.2 and y = 1.8 satisfies all equations\n",
    "# 4x + 4y = 12\n",
    "# 4(1.2) + 4(1.8) = 12\n",
    "# 4.8 + 7.2 = 12\n",
    "# 12 = 12\n",
    "\n",
    "# 3x = 2y\n",
    "# 3(1.2) = 2(1.8)\n",
    "# 3.6 = 3.6\n",
    "\n",
    "# 5 cups of tea and 5 cups of coffee = 5(1.8) + 5(1.2) = 9 + 6 = 15 dollars\n",
    "\n",
    "# Answer: 5 cups of tea and 5 cups of coffee = 15 dollars"
   ]
  },
  {
   "cell_type": "markdown",
   "metadata": {},
   "source": [
    "## Exercise 2\n",
    "\n",
    "Jim has more money than Bob. If Jim gave Bob 20 dollars, they would have the same amount. If Bob gave Jim 22 dollars, however, Jim would then have twice as much as Bob. \n",
    "\n",
    "How much does each one actually have?\n",
    "\n",
    "### Solution\n",
    "> Let x be the amount of money that Jim has and y be the amount that Bob has "
   ]
  },
  {
   "cell_type": "code",
   "execution_count": null,
   "metadata": {},
   "outputs": [],
   "source": [
    "x - 20 = y + 20 (A)\n",
    "x + 22 = 2(y - 22) (B)\n",
    "\n",
    "x = y + 40\n",
    "x - y - 40 = 0 (simplified A)\n",
    "\n",
    "x + 22 = 2y - 44\n",
    "x - 2y + 66 = 0 (simplified B)\n",
    "\n",
    "2x - 2y - 80 = 0 (A * 2 = C)\n",
    "\n",
    "-2x + 2y + 80 = 0 (C * -1 = C)\n",
    "\n",
    "-2x + x + 2y - 2y + 80 + 66 = 0 + 0 (B + C)\n",
    "-x + 146 = 0\n",
    "-x = -146\n",
    "x = 146 \n",
    "\n",
    "\n",
    "\n",
    "# Answer:\n",
    "# y = 106 (Bob's amount)\n",
    "# x = 146 (Jim's amount)"
   ]
  },
  {
   "cell_type": "markdown",
   "metadata": {},
   "source": [
    "## Exercise 3\n",
    "\n",
    "Mia has 30 coins, consisting of quarters (25 cents) and dimes (10 cents), which totals to the amount 5.70 dollars.  \n",
    "How many of each does she have?\n",
    "\n",
    "### Solution\n",
    "\n",
    "> Let x be the number of quarters and y be the number of dimes "
   ]
  },
  {
   "cell_type": "code",
   "execution_count": null,
   "metadata": {},
   "outputs": [],
   "source": [
    "# Your solution here \n",
    "# Answer:\n",
    "# x = 18 quarters\n",
    "# y = 12 dimes"
   ]
  },
  {
   "cell_type": "markdown",
   "metadata": {},
   "source": [
    "## Level up (Optional)\n",
    "For more practice with linear equations, visit the following links for more complex equations:\n",
    "\n",
    "* https://www.transum.org/software/SW/Starter_of_the_day/Students/Simultaneous_Equations.asp?Level=6\n",
    "* https://www.transum.org/software/SW/Starter_of_the_day/Students/Simultaneous_Equations.asp?Level=7\n",
    "\n",
    "## Summary\n",
    "\n",
    "In this lesson, you learned how to solve linear equations by hand to find the coefficient values. You'll now move forward to have a deeper look into vectors and matrices and how Python and NumPy can help us solve more complex equations in an analytical context. "
   ]
  }
 ],
 "metadata": {
  "kernelspec": {
   "display_name": "Python 3",
   "language": "python",
   "name": "python3"
  },
  "language_info": {
   "codemirror_mode": {
    "name": "ipython",
    "version": 3
   },
   "file_extension": ".py",
   "mimetype": "text/x-python",
   "name": "python",
   "nbconvert_exporter": "python",
   "pygments_lexer": "ipython3",
   "version": "3.6.9"
  }
 },
 "nbformat": 4,
 "nbformat_minor": 2
}
